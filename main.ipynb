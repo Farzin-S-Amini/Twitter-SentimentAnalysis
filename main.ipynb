{
 "cells": [
  {
   "cell_type": "code",
   "execution_count": 49,
   "metadata": {},
   "outputs": [],
   "source": [
    "import numpy as np\n",
    "import pandas as pd\n",
    "import matplotlib.pyplot as plt\n",
    "import random\n",
    "from sklearn.metrics import classification_report\n",
    "from sklearn.metrics import confusion_matrix\n",
    "from sklearn.metrics import recall_score, precision_score,f1_score, accuracy_score\n",
    "from keras.models import Sequential\n",
    "from keras.layers import Dense, Dropout, LSTM, Activation, Flatten, Input\n",
    "from keras.layers.normalization import BatchNormalization\n",
    "from keras.layers.embeddings import Embedding\n",
    "from keras.callbacks import ModelCheckpoint\n",
    "\n",
    "%matplotlib inline\n",
    "import warnings\n",
    "warnings.filterwarnings(\"ignore\")"
   ]
  },
  {
   "cell_type": "code",
   "execution_count": 2,
   "metadata": {},
   "outputs": [],
   "source": [
    "cols = ['sentiment','id','date','query_string','user','text']\n",
    "p = 0.2\n",
    "data = pd.read_csv(\"data/train.csv\",header=None, names=cols, encoding = \"ISO-8859-1\",\n",
    "                   skiprows=lambda i: i>0 and random.random() > p)"
   ]
  },
  {
   "cell_type": "code",
   "execution_count": 3,
   "metadata": {},
   "outputs": [
    {
     "data": {
      "text/html": [
       "<div>\n",
       "<style scoped>\n",
       "    .dataframe tbody tr th:only-of-type {\n",
       "        vertical-align: middle;\n",
       "    }\n",
       "\n",
       "    .dataframe tbody tr th {\n",
       "        vertical-align: top;\n",
       "    }\n",
       "\n",
       "    .dataframe thead th {\n",
       "        text-align: right;\n",
       "    }\n",
       "</style>\n",
       "<table border=\"1\" class=\"dataframe\">\n",
       "  <thead>\n",
       "    <tr style=\"text-align: right;\">\n",
       "      <th></th>\n",
       "      <th>sentiment</th>\n",
       "      <th>id</th>\n",
       "      <th>date</th>\n",
       "      <th>query_string</th>\n",
       "      <th>user</th>\n",
       "      <th>text</th>\n",
       "    </tr>\n",
       "  </thead>\n",
       "  <tbody>\n",
       "    <tr>\n",
       "      <th>0</th>\n",
       "      <td>0</td>\n",
       "      <td>1467810369</td>\n",
       "      <td>Mon Apr 06 22:19:45 PDT 2009</td>\n",
       "      <td>NO_QUERY</td>\n",
       "      <td>_TheSpecialOne_</td>\n",
       "      <td>@switchfoot http://twitpic.com/2y1zl - Awww, t...</td>\n",
       "    </tr>\n",
       "    <tr>\n",
       "      <th>1</th>\n",
       "      <td>0</td>\n",
       "      <td>1467812579</td>\n",
       "      <td>Mon Apr 06 22:20:17 PDT 2009</td>\n",
       "      <td>NO_QUERY</td>\n",
       "      <td>pardonlauren</td>\n",
       "      <td>I just re-pierced my ears</td>\n",
       "    </tr>\n",
       "    <tr>\n",
       "      <th>2</th>\n",
       "      <td>0</td>\n",
       "      <td>1467812723</td>\n",
       "      <td>Mon Apr 06 22:20:19 PDT 2009</td>\n",
       "      <td>NO_QUERY</td>\n",
       "      <td>TLeC</td>\n",
       "      <td>@caregiving I couldn't bear to watch it.  And ...</td>\n",
       "    </tr>\n",
       "    <tr>\n",
       "      <th>3</th>\n",
       "      <td>0</td>\n",
       "      <td>1467812784</td>\n",
       "      <td>Mon Apr 06 22:20:20 PDT 2009</td>\n",
       "      <td>NO_QUERY</td>\n",
       "      <td>bayofwolves</td>\n",
       "      <td>@smarrison i would've been the first, but i di...</td>\n",
       "    </tr>\n",
       "    <tr>\n",
       "      <th>4</th>\n",
       "      <td>0</td>\n",
       "      <td>1467812964</td>\n",
       "      <td>Mon Apr 06 22:20:22 PDT 2009</td>\n",
       "      <td>NO_QUERY</td>\n",
       "      <td>lovesongwriter</td>\n",
       "      <td>Hollis' death scene will hurt me severely to w...</td>\n",
       "    </tr>\n",
       "  </tbody>\n",
       "</table>\n",
       "</div>"
      ],
      "text/plain": [
       "   sentiment          id                          date query_string  \\\n",
       "0          0  1467810369  Mon Apr 06 22:19:45 PDT 2009     NO_QUERY   \n",
       "1          0  1467812579  Mon Apr 06 22:20:17 PDT 2009     NO_QUERY   \n",
       "2          0  1467812723  Mon Apr 06 22:20:19 PDT 2009     NO_QUERY   \n",
       "3          0  1467812784  Mon Apr 06 22:20:20 PDT 2009     NO_QUERY   \n",
       "4          0  1467812964  Mon Apr 06 22:20:22 PDT 2009     NO_QUERY   \n",
       "\n",
       "              user                                               text  \n",
       "0  _TheSpecialOne_  @switchfoot http://twitpic.com/2y1zl - Awww, t...  \n",
       "1     pardonlauren                         I just re-pierced my ears   \n",
       "2             TLeC  @caregiving I couldn't bear to watch it.  And ...  \n",
       "3      bayofwolves  @smarrison i would've been the first, but i di...  \n",
       "4   lovesongwriter  Hollis' death scene will hurt me severely to w...  "
      ]
     },
     "execution_count": 3,
     "metadata": {},
     "output_type": "execute_result"
    }
   ],
   "source": [
    "file_before = open(\"before.txt\", \"w\")\n",
    "for row in data['text'].head(20):\n",
    "    file_before.write(row)\n",
    "    file_before.write(\"\\n\")\n",
    "file_before.close()\n",
    "data.head()"
   ]
  },
  {
   "cell_type": "code",
   "execution_count": 4,
   "metadata": {},
   "outputs": [
    {
     "name": "stdout",
     "output_type": "stream",
     "text": [
      "<class 'pandas.core.frame.DataFrame'>\n",
      "RangeIndex: 320815 entries, 0 to 320814\n",
      "Data columns (total 6 columns):\n",
      "sentiment       320815 non-null int64\n",
      "id              320815 non-null int64\n",
      "date            320815 non-null object\n",
      "query_string    320815 non-null object\n",
      "user            320815 non-null object\n",
      "text            320815 non-null object\n",
      "dtypes: int64(2), object(4)\n",
      "memory usage: 14.7+ MB\n"
     ]
    }
   ],
   "source": [
    "data.info()"
   ]
  },
  {
   "cell_type": "code",
   "execution_count": 5,
   "metadata": {},
   "outputs": [
    {
     "data": {
      "text/plain": [
       "NO_QUERY    320815\n",
       "Name: query_string, dtype: int64"
      ]
     },
     "execution_count": 5,
     "metadata": {},
     "output_type": "execute_result"
    }
   ],
   "source": [
    "data['query_string'].value_counts()"
   ]
  },
  {
   "cell_type": "markdown",
   "metadata": {},
   "source": [
    "*query_string is a constant column so we can drop that. id, date and user columns does not also help\n",
    "in finding the tweet sentiment.*"
   ]
  },
  {
   "cell_type": "code",
   "execution_count": 6,
   "metadata": {},
   "outputs": [],
   "source": [
    "data.drop(['id','date','query_string','user'],axis=1,inplace=True)"
   ]
  },
  {
   "cell_type": "code",
   "execution_count": 7,
   "metadata": {},
   "outputs": [
    {
     "data": {
      "text/html": [
       "<div>\n",
       "<style scoped>\n",
       "    .dataframe tbody tr th:only-of-type {\n",
       "        vertical-align: middle;\n",
       "    }\n",
       "\n",
       "    .dataframe tbody tr th {\n",
       "        vertical-align: top;\n",
       "    }\n",
       "\n",
       "    .dataframe thead th {\n",
       "        text-align: right;\n",
       "    }\n",
       "</style>\n",
       "<table border=\"1\" class=\"dataframe\">\n",
       "  <thead>\n",
       "    <tr style=\"text-align: right;\">\n",
       "      <th></th>\n",
       "      <th>sentiment</th>\n",
       "      <th>text</th>\n",
       "    </tr>\n",
       "  </thead>\n",
       "  <tbody>\n",
       "    <tr>\n",
       "      <th>0</th>\n",
       "      <td>0</td>\n",
       "      <td>@switchfoot http://twitpic.com/2y1zl - Awww, t...</td>\n",
       "    </tr>\n",
       "    <tr>\n",
       "      <th>1</th>\n",
       "      <td>0</td>\n",
       "      <td>I just re-pierced my ears</td>\n",
       "    </tr>\n",
       "    <tr>\n",
       "      <th>2</th>\n",
       "      <td>0</td>\n",
       "      <td>@caregiving I couldn't bear to watch it.  And ...</td>\n",
       "    </tr>\n",
       "    <tr>\n",
       "      <th>3</th>\n",
       "      <td>0</td>\n",
       "      <td>@smarrison i would've been the first, but i di...</td>\n",
       "    </tr>\n",
       "    <tr>\n",
       "      <th>4</th>\n",
       "      <td>0</td>\n",
       "      <td>Hollis' death scene will hurt me severely to w...</td>\n",
       "    </tr>\n",
       "  </tbody>\n",
       "</table>\n",
       "</div>"
      ],
      "text/plain": [
       "   sentiment                                               text\n",
       "0          0  @switchfoot http://twitpic.com/2y1zl - Awww, t...\n",
       "1          0                         I just re-pierced my ears \n",
       "2          0  @caregiving I couldn't bear to watch it.  And ...\n",
       "3          0  @smarrison i would've been the first, but i di...\n",
       "4          0  Hollis' death scene will hurt me severely to w..."
      ]
     },
     "execution_count": 7,
     "metadata": {},
     "output_type": "execute_result"
    }
   ],
   "source": [
    "data.head()"
   ]
  },
  {
   "cell_type": "code",
   "execution_count": 8,
   "metadata": {},
   "outputs": [
    {
     "data": {
      "text/plain": [
       "0    160609\n",
       "4    160206\n",
       "Name: sentiment, dtype: int64"
      ]
     },
     "execution_count": 8,
     "metadata": {},
     "output_type": "execute_result"
    }
   ],
   "source": [
    "data['sentiment'].value_counts()"
   ]
  },
  {
   "cell_type": "code",
   "execution_count": 9,
   "metadata": {},
   "outputs": [],
   "source": [
    "data.loc[data['sentiment']> 0, ['sentiment']] = 1"
   ]
  },
  {
   "cell_type": "code",
   "execution_count": 10,
   "metadata": {},
   "outputs": [
    {
     "data": {
      "text/plain": [
       "0    160609\n",
       "1    160206\n",
       "Name: sentiment, dtype: int64"
      ]
     },
     "execution_count": 10,
     "metadata": {},
     "output_type": "execute_result"
    }
   ],
   "source": [
    "data['sentiment'].value_counts()"
   ]
  },
  {
   "cell_type": "markdown",
   "metadata": {},
   "source": [
    "# Data Preprocessing"
   ]
  },
  {
   "cell_type": "code",
   "execution_count": 11,
   "metadata": {},
   "outputs": [],
   "source": [
    "#let's remove stopwords\n",
    "stopwords = ['i', 'me', 'my', 'myself', 'we', 'our', 'ours', 'ourselves', 'you', \"you're\", \"you've\", \"you'll\", \"you'd\", 'your', 'yours', 'yourself', 'yourselves', 'he', 'him', 'his', 'himself'\n",
    "             , 'she', \"she's\", 'her', 'hers', 'herself', 'it', \"it's\", 'its', 'itself','they', 'them', 'their', 'theirs', 'themselves', 'what', 'which', 'who', 'whom', 'this', 'that',\n",
    "             \"that'll\", 'these', 'those', 'am', 'is', 'are', 'was', 'were', 'be', 'been', 'being', 'have', 'has', 'had', 'having', 'do', 'does', 'did', 'doing', 'a', 'an', 'the', 'and',\n",
    "             'but', 'if', 'or', 'because', 'as', 'until', 'while', 'of', 'for','with', 'about', 'between', 'through', 'during', 'before', 'after', 'below',\n",
    "             'to', 'from', 'up', 'in', 'out', 'on', 'then', 'once', 'here', 'there', 'when', 'where', 'why', 'how', 'all','both', 'each', 'more', 'just', 'at',\n",
    "             'most', 'other', 'some', 'such', 'same', 'so', 'than', 'very', 's', 't', 'can', 'will', 'should', \"should've\", 'now', 'd', 'll', 'm', 'o', 're', 've', 'y']\n",
    "\n",
    "data['text'] = data['text'].apply(lambda x: ' '.join([word for word in x.split() if word.lower() not in (stopwords)]))"
   ]
  },
  {
   "cell_type": "code",
   "execution_count": 12,
   "metadata": {},
   "outputs": [],
   "source": [
    "# make all the words lower case and decode html\n",
    "from bs4 import BeautifulSoup\n",
    "data['text'] = data['text'].apply(lambda x: BeautifulSoup(x.lower(), 'lxml').get_text())"
   ]
  },
  {
   "cell_type": "code",
   "execution_count": 13,
   "metadata": {},
   "outputs": [
    {
     "data": {
      "text/html": [
       "<div>\n",
       "<style scoped>\n",
       "    .dataframe tbody tr th:only-of-type {\n",
       "        vertical-align: middle;\n",
       "    }\n",
       "\n",
       "    .dataframe tbody tr th {\n",
       "        vertical-align: top;\n",
       "    }\n",
       "\n",
       "    .dataframe thead th {\n",
       "        text-align: right;\n",
       "    }\n",
       "</style>\n",
       "<table border=\"1\" class=\"dataframe\">\n",
       "  <thead>\n",
       "    <tr style=\"text-align: right;\">\n",
       "      <th></th>\n",
       "      <th>sentiment</th>\n",
       "      <th>text</th>\n",
       "    </tr>\n",
       "  </thead>\n",
       "  <tbody>\n",
       "    <tr>\n",
       "      <th>0</th>\n",
       "      <td>0</td>\n",
       "      <td>@switchfoot http://twitpic.com/2y1zl - awww, t...</td>\n",
       "    </tr>\n",
       "    <tr>\n",
       "      <th>1</th>\n",
       "      <td>0</td>\n",
       "      <td>re-pierced ears</td>\n",
       "    </tr>\n",
       "    <tr>\n",
       "      <th>2</th>\n",
       "      <td>0</td>\n",
       "      <td>@caregiving couldn't bear watch it. thought ua...</td>\n",
       "    </tr>\n",
       "    <tr>\n",
       "      <th>3</th>\n",
       "      <td>0</td>\n",
       "      <td>@smarrison would've first, didn't gun. not rea...</td>\n",
       "    </tr>\n",
       "    <tr>\n",
       "      <th>4</th>\n",
       "      <td>0</td>\n",
       "      <td>hollis' death scene hurt severely watch film w...</td>\n",
       "    </tr>\n",
       "  </tbody>\n",
       "</table>\n",
       "</div>"
      ],
      "text/plain": [
       "   sentiment                                               text\n",
       "0          0  @switchfoot http://twitpic.com/2y1zl - awww, t...\n",
       "1          0                                    re-pierced ears\n",
       "2          0  @caregiving couldn't bear watch it. thought ua...\n",
       "3          0  @smarrison would've first, didn't gun. not rea...\n",
       "4          0  hollis' death scene hurt severely watch film w..."
      ]
     },
     "execution_count": 13,
     "metadata": {},
     "output_type": "execute_result"
    }
   ],
   "source": [
    "data.head()"
   ]
  },
  {
   "cell_type": "code",
   "execution_count": 14,
   "metadata": {},
   "outputs": [],
   "source": [
    "#remove @usernames and #hashtags\n",
    "import re,string\n",
    "\n",
    "def strip_links(text):\n",
    "    link_regex    = re.compile('((https?):((//)|(\\\\\\\\))+([\\w\\d:#@%/;$()~_?\\+-=\\\\\\.&](#!)?)*)', re.DOTALL)\n",
    "    links         = re.findall(link_regex, text)\n",
    "    for link in links:\n",
    "        text = text.replace(link[0], ', ')    \n",
    "    return text\n",
    "\n",
    "def strip_all_entities(text):\n",
    "    entity_prefixes = ['@','#']\n",
    "    for separator in  string.punctuation:\n",
    "        if separator not in entity_prefixes :\n",
    "            text = text.replace(separator,' ')\n",
    "    words = []\n",
    "    for word in text.split():\n",
    "        word = word.strip()\n",
    "        if word:\n",
    "            if word[0] not in entity_prefixes:\n",
    "                words.append(word)\n",
    "    return ' '.join(words)\n",
    "\n",
    "data['text'] = data['text'].apply(strip_all_entities)"
   ]
  },
  {
   "cell_type": "code",
   "execution_count": 15,
   "metadata": {},
   "outputs": [],
   "source": [
    "# keep only alphabets\n",
    "data['text'] =data['text'].apply(lambda x: re.sub(\"[^a-z]\", \" \", x))"
   ]
  },
  {
   "cell_type": "code",
   "execution_count": 16,
   "metadata": {},
   "outputs": [],
   "source": [
    "file_after = open(\"after.txt\", \"w\")\n",
    "for row in data['text'].head(20):\n",
    "    file_after.write(row)\n",
    "    file_after.write(\"\\n\")\n",
    "file_after.close()"
   ]
  },
  {
   "cell_type": "markdown",
   "metadata": {},
   "source": [
    "# Words Visualization"
   ]
  },
  {
   "cell_type": "code",
   "execution_count": 17,
   "metadata": {},
   "outputs": [],
   "source": [
    "from sklearn.feature_extraction.text import CountVectorizer\n",
    "cvec = CountVectorizer(max_features=10000)\n",
    "cvec.fit(data.text)\n",
    "\n",
    "document_matrix = cvec.transform(data.text)\n",
    "\n",
    "\n",
    "\n",
    "    "
   ]
  },
  {
   "cell_type": "code",
   "execution_count": 18,
   "metadata": {},
   "outputs": [
    {
     "data": {
      "text/plain": [
       "320815"
      ]
     },
     "execution_count": 18,
     "metadata": {},
     "output_type": "execute_result"
    }
   ],
   "source": [
    "data['sentiment'].value_counts()[0]\n",
    "data.shape[0]"
   ]
  },
  {
   "cell_type": "code",
   "execution_count": 19,
   "metadata": {},
   "outputs": [
    {
     "name": "stdout",
     "output_type": "stream",
     "text": [
      "17845 entries' term freuquency calculated\n",
      "35690 entries' term freuquency calculated\n",
      "53536 entries' term freuquency calculated\n",
      "71381 entries' term freuquency calculated\n",
      "89227 entries' term freuquency calculated\n",
      "107072 entries' term freuquency calculated\n",
      "124918 entries' term freuquency calculated\n",
      "142763 entries' term freuquency calculated\n",
      "160609 entries' term freuquency calculated\n",
      "178410 entries' term freuquency calculated\n",
      "196211 entries' term freuquency calculated\n",
      "214011 entries' term freuquency calculated\n",
      "231812 entries' term freuquency calculated\n",
      "249612 entries' term freuquency calculated\n",
      "267413 entries' term freuquency calculated\n",
      "285213 entries' term freuquency calculated\n",
      "303014 entries' term freuquency calculated\n",
      "320815 entries' term freuquency calculated\n"
     ]
    }
   ],
   "source": [
    "neg_batches = np.linspace(0,data['sentiment'].value_counts()[0],10).astype(int)\n",
    "i=0\n",
    "neg_tf = []\n",
    "\n",
    "while i < len(neg_batches)-1:\n",
    "    batch_result = np.sum(document_matrix[neg_batches[i]:neg_batches[i+1]].toarray(),axis=0)\n",
    "    neg_tf.append(batch_result)\n",
    "    print (neg_batches[i+1],\"entries' term freuquency calculated\")\n",
    "    i += 1\n",
    "\n",
    "pos_batches = np.linspace(data['sentiment'].value_counts()[0] + 1 ,data.shape[0], 10).astype(int)\n",
    "i=0\n",
    "pos_tf = []\n",
    "while i < len(pos_batches)-1:\n",
    "    batch_result = np.sum(document_matrix[pos_batches[i]:pos_batches[i+1]].toarray(),axis=0)\n",
    "    pos_tf.append(batch_result)\n",
    "    print (pos_batches[i+1],\"entries' term freuquency calculated\")\n",
    "    i += 1\n"
   ]
  },
  {
   "cell_type": "code",
   "execution_count": 20,
   "metadata": {},
   "outputs": [
    {
     "data": {
      "text/html": [
       "<div>\n",
       "<style scoped>\n",
       "    .dataframe tbody tr th:only-of-type {\n",
       "        vertical-align: middle;\n",
       "    }\n",
       "\n",
       "    .dataframe tbody tr th {\n",
       "        vertical-align: top;\n",
       "    }\n",
       "\n",
       "    .dataframe thead th {\n",
       "        text-align: right;\n",
       "    }\n",
       "</style>\n",
       "<table border=\"1\" class=\"dataframe\">\n",
       "  <thead>\n",
       "    <tr style=\"text-align: right;\">\n",
       "      <th></th>\n",
       "      <th>negative</th>\n",
       "      <th>positive</th>\n",
       "      <th>total</th>\n",
       "    </tr>\n",
       "  </thead>\n",
       "  <tbody>\n",
       "    <tr>\n",
       "      <th>not</th>\n",
       "      <td>15003</td>\n",
       "      <td>6742</td>\n",
       "      <td>21745</td>\n",
       "    </tr>\n",
       "    <tr>\n",
       "      <th>good</th>\n",
       "      <td>5882</td>\n",
       "      <td>12395</td>\n",
       "      <td>18277</td>\n",
       "    </tr>\n",
       "    <tr>\n",
       "      <th>day</th>\n",
       "      <td>8300</td>\n",
       "      <td>9631</td>\n",
       "      <td>17931</td>\n",
       "    </tr>\n",
       "    <tr>\n",
       "      <th>get</th>\n",
       "      <td>9137</td>\n",
       "      <td>7278</td>\n",
       "      <td>16415</td>\n",
       "    </tr>\n",
       "    <tr>\n",
       "      <th>like</th>\n",
       "      <td>8387</td>\n",
       "      <td>7615</td>\n",
       "      <td>16002</td>\n",
       "    </tr>\n",
       "    <tr>\n",
       "      <th>no</th>\n",
       "      <td>10934</td>\n",
       "      <td>4659</td>\n",
       "      <td>15593</td>\n",
       "    </tr>\n",
       "    <tr>\n",
       "      <th>go</th>\n",
       "      <td>9081</td>\n",
       "      <td>5717</td>\n",
       "      <td>14798</td>\n",
       "    </tr>\n",
       "    <tr>\n",
       "      <th>http</th>\n",
       "      <td>4921</td>\n",
       "      <td>9514</td>\n",
       "      <td>14435</td>\n",
       "    </tr>\n",
       "    <tr>\n",
       "      <th>today</th>\n",
       "      <td>7686</td>\n",
       "      <td>6112</td>\n",
       "      <td>13798</td>\n",
       "    </tr>\n",
       "    <tr>\n",
       "      <th>too</th>\n",
       "      <td>7429</td>\n",
       "      <td>5669</td>\n",
       "      <td>13098</td>\n",
       "    </tr>\n",
       "  </tbody>\n",
       "</table>\n",
       "</div>"
      ],
      "text/plain": [
       "       negative  positive  total\n",
       "not       15003      6742  21745\n",
       "good       5882     12395  18277\n",
       "day        8300      9631  17931\n",
       "get        9137      7278  16415\n",
       "like       8387      7615  16002\n",
       "no        10934      4659  15593\n",
       "go         9081      5717  14798\n",
       "http       4921      9514  14435\n",
       "today      7686      6112  13798\n",
       "too        7429      5669  13098"
      ]
     },
     "execution_count": 20,
     "metadata": {},
     "output_type": "execute_result"
    }
   ],
   "source": [
    "neg = np.sum(neg_tf,axis=0)\n",
    "pos = np.sum(pos_tf,axis=0)\n",
    "term_freq_df2 = pd.DataFrame([neg,pos],columns=cvec.get_feature_names()).transpose()\n",
    "term_freq_df2.columns = ['negative', 'positive']\n",
    "term_freq_df2['total'] = term_freq_df2['negative'] + term_freq_df2['positive']\n",
    "term_freq_df2.sort_values(by='total', ascending=False).iloc[:10]"
   ]
  },
  {
   "cell_type": "code",
   "execution_count": 21,
   "metadata": {},
   "outputs": [
    {
     "data": {
      "text/plain": [
       "Text(0.5,1,'Top 30 tokens in negative tweets')"
      ]
     },
     "execution_count": 21,
     "metadata": {},
     "output_type": "execute_result"
    },
    {
     "data": {
      "image/png": "[encoded data removed]",
      "text/plain": [
       "<Figure size 864x720 with 1 Axes>"
      ]
     },
     "metadata": {},
     "output_type": "display_data"
    }
   ],
   "source": [
    "y_pos = np.arange(30)\n",
    "plt.figure(figsize=(12,10))\n",
    "plt.bar(y_pos, term_freq_df2.sort_values(by='negative', ascending=False)['negative'][:30], align='center', alpha=0.5, color='red')\n",
    "plt.xticks(y_pos, term_freq_df2.sort_values(by='negative', ascending=False)['negative'][:30].index,rotation='vertical')\n",
    "plt.ylabel('Frequency')\n",
    "plt.xlabel('Top 30 negative tokens')\n",
    "plt.title('Top 30 tokens in negative tweets')"
   ]
  },
  {
   "cell_type": "code",
   "execution_count": 22,
   "metadata": {},
   "outputs": [
    {
     "data": {
      "text/plain": [
       "Text(0.5,1,'Top 30 tokens in positive tweets')"
      ]
     },
     "execution_count": 22,
     "metadata": {},
     "output_type": "execute_result"
    },
    {
     "data": {
      "image/png": "[encoded data removed]",
      "text/plain": [
       "<Figure size 864x720 with 1 Axes>"
      ]
     },
     "metadata": {},
     "output_type": "display_data"
    }
   ],
   "source": [
    "y_pos = np.arange(30)\n",
    "plt.figure(figsize=(12,10))\n",
    "plt.bar(y_pos, term_freq_df2.sort_values(by='positive', ascending=False)['positive'][:30], align='center', alpha=0.5, edgecolor='blue')\n",
    "plt.xticks(y_pos, term_freq_df2.sort_values(by='positive', ascending=False)['positive'][:30].index,rotation='vertical')\n",
    "plt.ylabel('Frequency')\n",
    "plt.xlabel('Top 30 positive tokens')\n",
    "plt.title('Top 30 tokens in positive tweets')"
   ]
  },
  {
   "cell_type": "code",
   "execution_count": null,
   "metadata": {},
   "outputs": [],
   "source": []
  },
  {
   "cell_type": "markdown",
   "metadata": {},
   "source": [
    "# Data Splitting"
   ]
  },
  {
   "cell_type": "code",
   "execution_count": 23,
   "metadata": {},
   "outputs": [],
   "source": [
    "from sklearn.model_selection import train_test_split\n",
    "x_train, x_validation_and_test, y_train, y_validation_and_test = train_test_split(data.text\n",
    ", data.sentiment, test_size=.04, random_state=100)\n",
    "x_validation, x_test, y_validation, y_test =  train_test_split(x_validation_and_test,\n",
    "y_validation_and_test, test_size=.5, random_state=100)"
   ]
  },
  {
   "cell_type": "code",
   "execution_count": 24,
   "metadata": {},
   "outputs": [
    {
     "name": "stdout",
     "output_type": "stream",
     "text": [
      "(307982,) (153815,) (154167,)\n",
      "(6416,) (3172,) (3244,)\n",
      "(6417,) (3219,) (3198,)\n"
     ]
    }
   ],
   "source": [
    "print(x_train.shape, x_train[y_train>0].shape, x_train[y_train==0].shape)\n",
    "print(x_validation.shape, x_validation[y_validation>0].shape, x_validation[y_validation==0].shape)\n",
    "print(x_test.shape, x_test[y_test>0].shape, x_test[y_test==0].shape)"
   ]
  },
  {
   "cell_type": "markdown",
   "metadata": {},
   "source": [
    "# Count Vectorization"
   ]
  },
  {
   "cell_type": "code",
   "execution_count": null,
   "metadata": {},
   "outputs": [],
   "source": []
  },
  {
   "cell_type": "code",
   "execution_count": 25,
   "metadata": {},
   "outputs": [],
   "source": [
    "def eval_metric(prediction, truth):\n",
    "    print(\"accuracy:     {}\".format(accuracy_score(prediction, truth)))\n",
    "    print(\"recall:       {}\".format(recall_score(prediction, truth)))\n",
    "    print(\"precision:    {}\".format(precision_score(prediction, truth)))\n",
    "    print(\"f1_score:     {}\".format(f1_score(prediction, truth)))\n",
    "    print(\"\\nconfusion_matrix:\\n\",confusion_matrix(prediction, truth))"
   ]
  },
  {
   "cell_type": "code",
   "execution_count": 26,
   "metadata": {},
   "outputs": [
    {
     "name": "stdout",
     "output_type": "stream",
     "text": [
      "accuracy:     0.753428927680798\n",
      "recall:       0.7285796434732605\n",
      "precision:    0.7988650693568726\n",
      "f1_score:     0.7621052631578948\n",
      "\n",
      "confusion_matrix:\n",
      " [[2300  638]\n",
      " [ 944 2534]]\n",
      "accuracy:     0.7797693266832918\n",
      "recall:       0.7624589674723963\n",
      "precision:    0.8054854981084489\n",
      "f1_score:     0.783381879503296\n",
      "\n",
      "confusion_matrix:\n",
      " [[2448  617]\n",
      " [ 796 2555]]\n",
      "accuracy:     0.7810162094763092\n",
      "recall:       0.7636526410026858\n",
      "precision:    0.8067465321563683\n",
      "f1_score:     0.7846083090602484\n",
      "\n",
      "confusion_matrix:\n",
      " [[2452  613]\n",
      " [ 792 2559]]\n",
      "accuracy:     0.7822630922693267\n",
      "recall:       0.7664365055538878\n",
      "precision:    0.8048549810844893\n",
      "f1_score:     0.7851760725818852\n",
      "\n",
      "confusion_matrix:\n",
      " [[2466  619]\n",
      " [ 778 2553]]\n"
     ]
    }
   ],
   "source": [
    "from sklearn.feature_extraction.text import CountVectorizer\n",
    "from sklearn.linear_model import LogisticRegression\n",
    "\n",
    "CVec = CountVectorizer()\n",
    "num_of_features = [1000, 10000, 20000, 50000]\n",
    "for n_features in num_of_features:\n",
    "    \n",
    "    CVec.set_params(max_features = n_features)\n",
    "    CVec.fit(x_train)\n",
    "    \n",
    "    x_train_vector = CVec.transform(x_train)\n",
    "    x_validation_vector = CVec.transform(x_validation)\n",
    "    \n",
    "    logreg = LogisticRegression()\n",
    "    logreg.fit(x_train_vector, y_train)\n",
    "    lr_prediction = logreg.predict(x_validation_vector)\n",
    "    eval_metric(lr_prediction, y_validation)"
   ]
  },
  {
   "cell_type": "markdown",
   "metadata": {},
   "source": [
    "# Word2Vec"
   ]
  },
  {
   "cell_type": "code",
   "execution_count": 27,
   "metadata": {},
   "outputs": [
    {
     "name": "stdout",
     "output_type": "stream",
     "text": [
      "307982\n"
     ]
    }
   ],
   "source": [
    "# This function converts a text to a sequence of words.\n",
    "def wordlist(sentence):\n",
    "    words = sentence.lower().split()\n",
    "    return(words)\n",
    "\n",
    "tweets = []\n",
    "for tweet in x_train:\n",
    "    tweets.append(wordlist(tweet))\n",
    "print(len(tweets))"
   ]
  },
  {
   "cell_type": "code",
   "execution_count": 28,
   "metadata": {},
   "outputs": [],
   "source": [
    "import logging\n",
    "logging.basicConfig(format='%(asctime)s : %(levelname)s : %(message)s', level=logging.INFO)"
   ]
  },
  {
   "cell_type": "code",
   "execution_count": 29,
   "metadata": {},
   "outputs": [
    {
     "name": "stderr",
     "output_type": "stream",
     "text": [
      "2018-12-04 11:40:52,301 : INFO : 'pattern' package not found; tag filters are not available for English\n",
      "2018-12-04 11:40:52,358 : INFO : collecting all words and their counts\n",
      "2018-12-04 11:40:52,359 : INFO : PROGRESS: at sentence #0, processed 0 words, keeping 0 word types\n",
      "2018-12-04 11:40:52,391 : INFO : PROGRESS: at sentence #10000, processed 83573 words, keeping 13677 word types\n",
      "2018-12-04 11:40:52,411 : INFO : PROGRESS: at sentence #20000, processed 166143 words, keeping 20856 word types\n",
      "2018-12-04 11:40:52,429 : INFO : PROGRESS: at sentence #30000, processed 249909 words, keeping 26684 word types\n",
      "2018-12-04 11:40:52,447 : INFO : PROGRESS: at sentence #40000, processed 333379 words, keeping 31605 word types\n",
      "2018-12-04 11:40:52,464 : INFO : PROGRESS: at sentence #50000, processed 416537 words, keeping 35905 word types\n",
      "2018-12-04 11:40:52,481 : INFO : PROGRESS: at sentence #60000, processed 499085 words, keeping 40062 word types\n",
      "2018-12-04 11:40:52,501 : INFO : PROGRESS: at sentence #70000, processed 581775 words, keeping 43912 word types\n",
      "2018-12-04 11:40:52,519 : INFO : PROGRESS: at sentence #80000, processed 664667 words, keeping 47531 word types\n",
      "2018-12-04 11:40:52,537 : INFO : PROGRESS: at sentence #90000, processed 748461 words, keeping 51045 word types\n"
     ]
    },
    {
     "name": "stdout",
     "output_type": "stream",
     "text": [
      "Training model....\n"
     ]
    },
    {
     "name": "stderr",
     "output_type": "stream",
     "text": [
      "2018-12-04 11:40:52,554 : INFO : PROGRESS: at sentence #100000, processed 832117 words, keeping 54318 word types\n",
      "2018-12-04 11:40:52,572 : INFO : PROGRESS: at sentence #110000, processed 914643 words, keeping 57525 word types\n",
      "2018-12-04 11:40:52,589 : INFO : PROGRESS: at sentence #120000, processed 997874 words, keeping 60755 word types\n",
      "2018-12-04 11:40:52,607 : INFO : PROGRESS: at sentence #130000, processed 1081334 words, keeping 63890 word types\n",
      "2018-12-04 11:40:52,624 : INFO : PROGRESS: at sentence #140000, processed 1164562 words, keeping 66759 word types\n",
      "2018-12-04 11:40:52,642 : INFO : PROGRESS: at sentence #150000, processed 1248208 words, keeping 69523 word types\n",
      "2018-12-04 11:40:52,659 : INFO : PROGRESS: at sentence #160000, processed 1331121 words, keeping 72273 word types\n",
      "2018-12-04 11:40:52,677 : INFO : PROGRESS: at sentence #170000, processed 1414114 words, keeping 74956 word types\n",
      "2018-12-04 11:40:52,694 : INFO : PROGRESS: at sentence #180000, processed 1497247 words, keeping 77556 word types\n",
      "2018-12-04 11:40:52,712 : INFO : PROGRESS: at sentence #190000, processed 1579307 words, keeping 80162 word types\n",
      "2018-12-04 11:40:52,730 : INFO : PROGRESS: at sentence #200000, processed 1662705 words, keeping 82699 word types\n",
      "2018-12-04 11:40:52,747 : INFO : PROGRESS: at sentence #210000, processed 1745720 words, keeping 85185 word types\n",
      "2018-12-04 11:40:52,770 : INFO : PROGRESS: at sentence #220000, processed 1829220 words, keeping 87556 word types\n",
      "2018-12-04 11:40:52,787 : INFO : PROGRESS: at sentence #230000, processed 1912107 words, keeping 89964 word types\n",
      "2018-12-04 11:40:52,805 : INFO : PROGRESS: at sentence #240000, processed 1995287 words, keeping 92300 word types\n",
      "2018-12-04 11:40:52,822 : INFO : PROGRESS: at sentence #250000, processed 2078890 words, keeping 94568 word types\n",
      "2018-12-04 11:40:52,840 : INFO : PROGRESS: at sentence #260000, processed 2162523 words, keeping 96899 word types\n",
      "2018-12-04 11:40:52,857 : INFO : PROGRESS: at sentence #270000, processed 2244770 words, keeping 99064 word types\n",
      "2018-12-04 11:40:52,875 : INFO : PROGRESS: at sentence #280000, processed 2327819 words, keeping 101359 word types\n",
      "2018-12-04 11:40:52,893 : INFO : PROGRESS: at sentence #290000, processed 2410783 words, keeping 103565 word types\n",
      "2018-12-04 11:40:52,911 : INFO : PROGRESS: at sentence #300000, processed 2494522 words, keeping 105797 word types\n",
      "2018-12-04 11:40:52,926 : INFO : collected 107501 word types from a corpus of 2561113 raw words and 307982 sentences\n",
      "2018-12-04 11:40:52,926 : INFO : Loading a fresh vocabulary\n",
      "2018-12-04 11:40:53,097 : INFO : effective_min_count=40 retains 5162 unique words (4% of original 107501, drops 102339)\n",
      "2018-12-04 11:40:53,098 : INFO : effective_min_count=40 leaves 2236832 word corpus (87% of original 2561113, drops 324281)\n",
      "2018-12-04 11:40:53,111 : INFO : deleting the raw counts dictionary of 107501 items\n",
      "2018-12-04 11:40:53,114 : INFO : sample=0.001 downsamples 58 most-common words\n",
      "2018-12-04 11:40:53,114 : INFO : downsampling leaves estimated 1993206 word corpus (89.1% of prior 2236832)\n",
      "2018-12-04 11:40:53,125 : INFO : estimated required memory for 5162 words and 300 dimensions: 14969800 bytes\n",
      "2018-12-04 11:40:53,125 : INFO : resetting layer weights\n",
      "2018-12-04 11:40:53,211 : INFO : training model with 4 workers on 5162 vocabulary and 300 features, using sg=0 hs=0 sample=0.001 negative=5 window=10\n",
      "2018-12-04 11:40:54,225 : INFO : EPOCH 1 - PROGRESS: at 69.87% examples, 1389262 words/s, in_qsize 7, out_qsize 0\n",
      "2018-12-04 11:40:54,624 : INFO : worker thread finished; awaiting finish of 3 more threads\n",
      "2018-12-04 11:40:54,630 : INFO : worker thread finished; awaiting finish of 2 more threads\n",
      "2018-12-04 11:40:54,632 : INFO : worker thread finished; awaiting finish of 1 more threads\n",
      "2018-12-04 11:40:54,641 : INFO : worker thread finished; awaiting finish of 0 more threads\n",
      "2018-12-04 11:40:54,642 : INFO : EPOCH - 1 : training on 2561113 raw words (1993019 effective words) took 1.4s, 1403300 effective words/s\n",
      "2018-12-04 11:40:55,657 : INFO : EPOCH 2 - PROGRESS: at 71.82% examples, 1425398 words/s, in_qsize 7, out_qsize 0\n",
      "2018-12-04 11:40:56,025 : INFO : worker thread finished; awaiting finish of 3 more threads\n",
      "2018-12-04 11:40:56,026 : INFO : worker thread finished; awaiting finish of 2 more threads\n",
      "2018-12-04 11:40:56,034 : INFO : worker thread finished; awaiting finish of 1 more threads\n",
      "2018-12-04 11:40:56,036 : INFO : worker thread finished; awaiting finish of 0 more threads\n",
      "2018-12-04 11:40:56,037 : INFO : EPOCH - 2 : training on 2561113 raw words (1992532 effective words) took 1.4s, 1440453 effective words/s\n",
      "2018-12-04 11:40:57,049 : INFO : EPOCH 3 - PROGRESS: at 66.38% examples, 1319201 words/s, in_qsize 7, out_qsize 0\n",
      "2018-12-04 11:40:57,518 : INFO : worker thread finished; awaiting finish of 3 more threads\n",
      "2018-12-04 11:40:57,519 : INFO : worker thread finished; awaiting finish of 2 more threads\n",
      "2018-12-04 11:40:57,522 : INFO : worker thread finished; awaiting finish of 1 more threads\n",
      "2018-12-04 11:40:57,526 : INFO : worker thread finished; awaiting finish of 0 more threads\n",
      "2018-12-04 11:40:57,527 : INFO : EPOCH - 3 : training on 2561113 raw words (1992589 effective words) took 1.5s, 1347016 effective words/s\n",
      "2018-12-04 11:40:58,539 : INFO : EPOCH 4 - PROGRESS: at 65.20% examples, 1297336 words/s, in_qsize 7, out_qsize 0\n",
      "2018-12-04 11:40:59,019 : INFO : worker thread finished; awaiting finish of 3 more threads\n",
      "2018-12-04 11:40:59,020 : INFO : worker thread finished; awaiting finish of 2 more threads\n",
      "2018-12-04 11:40:59,024 : INFO : worker thread finished; awaiting finish of 1 more threads\n",
      "2018-12-04 11:40:59,027 : INFO : worker thread finished; awaiting finish of 0 more threads\n",
      "2018-12-04 11:40:59,028 : INFO : EPOCH - 4 : training on 2561113 raw words (1993381 effective words) took 1.5s, 1337898 effective words/s\n",
      "2018-12-04 11:41:00,038 : INFO : EPOCH 5 - PROGRESS: at 63.63% examples, 1266394 words/s, in_qsize 7, out_qsize 0\n",
      "2018-12-04 11:41:00,570 : INFO : worker thread finished; awaiting finish of 3 more threads\n",
      "2018-12-04 11:41:00,572 : INFO : worker thread finished; awaiting finish of 2 more threads\n",
      "2018-12-04 11:41:00,577 : INFO : worker thread finished; awaiting finish of 1 more threads\n",
      "2018-12-04 11:41:00,583 : INFO : worker thread finished; awaiting finish of 0 more threads\n",
      "2018-12-04 11:41:00,583 : INFO : EPOCH - 5 : training on 2561113 raw words (1992520 effective words) took 1.5s, 1289362 effective words/s\n",
      "2018-12-04 11:41:00,584 : INFO : training on a 12805565 raw words (9964041 effective words) took 7.4s, 1351644 effective words/s\n",
      "2018-12-04 11:41:00,584 : INFO : precomputing L2-norms of word weight vectors\n",
      "2018-12-04 11:41:00,621 : INFO : saving Word2Vec object under 300features_40minwords_10context, separately None\n",
      "2018-12-04 11:41:00,621 : INFO : not storing attribute vectors_norm\n",
      "2018-12-04 11:41:00,622 : INFO : not storing attribute cum_table\n",
      "2018-12-04 11:41:00,767 : INFO : saved 300features_40minwords_10context\n"
     ]
    }
   ],
   "source": [
    "# Creating the model and setting values for the various parameters\n",
    "num_features = 300  # Word vector dimensionality\n",
    "min_word_count = 40 # Minimum word count\n",
    "num_workers = 4     # Number of parallel threads\n",
    "context = 10        # Context window size\n",
    "downsampling = 1e-3 # (0.001) Downsample setting for frequent words\n",
    "\n",
    "# Initializing the train model\n",
    "from gensim.models import word2vec\n",
    "print(\"Training model....\")\n",
    "model = word2vec.Word2Vec(tweets,\\\n",
    "                          workers=num_workers,\\\n",
    "                          size=num_features,\\\n",
    "                          min_count=min_word_count,\\\n",
    "                          window=context,\n",
    "                          sample=downsampling)\n",
    "\n",
    "# To make the model memory efficient\n",
    "model.init_sims(replace=True)\n",
    "\n",
    "# Saving the model for later use. Can be loaded using Word2Vec.load()\n",
    "model_name = \"300features_40minwords_10context\"\n",
    "model.save(model_name)"
   ]
  },
  {
   "cell_type": "code",
   "execution_count": 30,
   "metadata": {},
   "outputs": [
    {
     "data": {
      "text/plain": [
       "'man'"
      ]
     },
     "execution_count": 30,
     "metadata": {},
     "output_type": "execute_result"
    }
   ],
   "source": [
    "model.wv.doesnt_match(\"man woman dog child kitchen\".split())"
   ]
  },
  {
   "cell_type": "code",
   "execution_count": 31,
   "metadata": {},
   "outputs": [
    {
     "data": {
      "text/plain": [
       "[('finger', 0.8173677325248718),\n",
       " ('hole', 0.7178037166595459),\n",
       " ('shoulder', 0.7099558115005493),\n",
       " ('wrist', 0.7098051309585571),\n",
       " ('foot', 0.7044979929924011),\n",
       " ('toilet', 0.7042155265808105),\n",
       " ('toe', 0.6926454305648804),\n",
       " ('bathroom', 0.6909935474395752),\n",
       " ('nail', 0.6907315254211426),\n",
       " ('arm', 0.6874572038650513)]"
      ]
     },
     "execution_count": 31,
     "metadata": {},
     "output_type": "execute_result"
    }
   ],
   "source": [
    "model.wv.most_similar(\"hand\")"
   ]
  },
  {
   "cell_type": "code",
   "execution_count": 32,
   "metadata": {},
   "outputs": [
    {
     "data": {
      "text/plain": [
       "[('terrible', 0.8955605626106262),\n",
       " ('horrible', 0.8378608226776123),\n",
       " ('icky', 0.7210493683815002),\n",
       " ('shitty', 0.7205473780632019),\n",
       " ('poorly', 0.7158030271530151),\n",
       " ('crappy', 0.6695282459259033),\n",
       " ('painful', 0.6634743809700012),\n",
       " ('gross', 0.6593185663223267),\n",
       " ('infection', 0.6592518091201782),\n",
       " ('guilty', 0.6553943753242493)]"
      ]
     },
     "execution_count": 32,
     "metadata": {},
     "output_type": "execute_result"
    }
   ],
   "source": [
    "model.wv.most_similar(\"awful\")"
   ]
  },
  {
   "cell_type": "code",
   "execution_count": 33,
   "metadata": {},
   "outputs": [
    {
     "data": {
      "text/plain": [
       "(5162, 300)"
      ]
     },
     "execution_count": 33,
     "metadata": {},
     "output_type": "execute_result"
    }
   ],
   "source": [
    "model.wv.syn0.shape"
   ]
  },
  {
   "cell_type": "code",
   "execution_count": 34,
   "metadata": {},
   "outputs": [
    {
     "name": "stdout",
     "output_type": "stream",
     "text": [
      "Review 0 of 307982\n",
      "Review 1000 of 307982\n",
      "Review 2000 of 307982\n",
      "Review 3000 of 307982\n",
      "Review 4000 of 307982\n",
      "Review 5000 of 307982\n",
      "Review 6000 of 307982\n",
      "Review 7000 of 307982\n",
      "Review 8000 of 307982\n",
      "Review 9000 of 307982\n",
      "Review 10000 of 307982\n",
      "Review 11000 of 307982\n",
      "Review 12000 of 307982\n",
      "Review 13000 of 307982\n",
      "Review 14000 of 307982\n",
      "Review 15000 of 307982\n",
      "Review 16000 of 307982\n",
      "Review 17000 of 307982\n",
      "Review 18000 of 307982\n",
      "Review 19000 of 307982\n",
      "Review 20000 of 307982\n",
      "Review 21000 of 307982\n",
      "Review 22000 of 307982\n",
      "Review 23000 of 307982\n",
      "Review 24000 of 307982\n",
      "Review 25000 of 307982\n",
      "Review 26000 of 307982\n",
      "Review 27000 of 307982\n",
      "Review 28000 of 307982\n",
      "Review 29000 of 307982\n",
      "Review 30000 of 307982\n",
      "Review 31000 of 307982\n",
      "Review 32000 of 307982\n",
      "Review 33000 of 307982\n",
      "Review 34000 of 307982\n",
      "Review 35000 of 307982\n",
      "Review 36000 of 307982\n",
      "Review 37000 of 307982\n",
      "Review 38000 of 307982\n",
      "Review 39000 of 307982\n",
      "Review 40000 of 307982\n",
      "Review 41000 of 307982\n",
      "Review 42000 of 307982\n",
      "Review 43000 of 307982\n",
      "Review 44000 of 307982\n",
      "Review 45000 of 307982\n",
      "Review 46000 of 307982\n",
      "Review 47000 of 307982\n",
      "Review 48000 of 307982\n",
      "Review 49000 of 307982\n",
      "Review 50000 of 307982\n",
      "Review 51000 of 307982\n",
      "Review 52000 of 307982\n",
      "Review 53000 of 307982\n",
      "Review 54000 of 307982\n",
      "Review 55000 of 307982\n",
      "Review 56000 of 307982\n",
      "Review 57000 of 307982\n",
      "Review 58000 of 307982\n",
      "Review 59000 of 307982\n",
      "Review 60000 of 307982\n",
      "Review 61000 of 307982\n",
      "Review 62000 of 307982\n",
      "Review 63000 of 307982\n",
      "Review 64000 of 307982\n",
      "Review 65000 of 307982\n",
      "Review 66000 of 307982\n",
      "Review 67000 of 307982\n",
      "Review 68000 of 307982\n",
      "Review 69000 of 307982\n",
      "Review 70000 of 307982\n",
      "Review 71000 of 307982\n",
      "Review 72000 of 307982\n",
      "Review 73000 of 307982\n",
      "Review 74000 of 307982\n",
      "Review 75000 of 307982\n",
      "Review 76000 of 307982\n",
      "Review 77000 of 307982\n",
      "Review 78000 of 307982\n",
      "Review 79000 of 307982\n",
      "Review 80000 of 307982\n",
      "Review 81000 of 307982\n",
      "Review 82000 of 307982\n",
      "Review 83000 of 307982\n",
      "Review 84000 of 307982\n",
      "Review 85000 of 307982\n",
      "Review 86000 of 307982\n",
      "Review 87000 of 307982\n",
      "Review 88000 of 307982\n",
      "Review 89000 of 307982\n",
      "Review 90000 of 307982\n",
      "Review 91000 of 307982\n",
      "Review 92000 of 307982\n",
      "Review 93000 of 307982\n",
      "Review 94000 of 307982\n",
      "Review 95000 of 307982\n",
      "Review 96000 of 307982\n",
      "Review 97000 of 307982\n",
      "Review 98000 of 307982\n",
      "Review 99000 of 307982\n",
      "Review 100000 of 307982\n",
      "Review 101000 of 307982\n",
      "Review 102000 of 307982\n",
      "Review 103000 of 307982\n",
      "Review 104000 of 307982\n",
      "Review 105000 of 307982\n",
      "Review 106000 of 307982\n",
      "Review 107000 of 307982\n",
      "Review 108000 of 307982\n",
      "Review 109000 of 307982\n",
      "Review 110000 of 307982\n",
      "Review 111000 of 307982\n",
      "Review 112000 of 307982\n",
      "Review 113000 of 307982\n",
      "Review 114000 of 307982\n",
      "Review 115000 of 307982\n",
      "Review 116000 of 307982\n",
      "Review 117000 of 307982\n",
      "Review 118000 of 307982\n",
      "Review 119000 of 307982\n",
      "Review 120000 of 307982\n",
      "Review 121000 of 307982\n",
      "Review 122000 of 307982\n",
      "Review 123000 of 307982\n",
      "Review 124000 of 307982\n",
      "Review 125000 of 307982\n",
      "Review 126000 of 307982\n",
      "Review 127000 of 307982\n",
      "Review 128000 of 307982\n",
      "Review 129000 of 307982\n",
      "Review 130000 of 307982\n",
      "Review 131000 of 307982\n",
      "Review 132000 of 307982\n",
      "Review 133000 of 307982\n",
      "Review 134000 of 307982\n",
      "Review 135000 of 307982\n",
      "Review 136000 of 307982\n",
      "Review 137000 of 307982\n",
      "Review 138000 of 307982\n",
      "Review 139000 of 307982\n",
      "Review 140000 of 307982\n",
      "Review 141000 of 307982\n",
      "Review 142000 of 307982\n",
      "Review 143000 of 307982\n",
      "Review 144000 of 307982\n",
      "Review 145000 of 307982\n",
      "Review 146000 of 307982\n",
      "Review 147000 of 307982\n",
      "Review 148000 of 307982\n",
      "Review 149000 of 307982\n",
      "Review 150000 of 307982\n",
      "Review 151000 of 307982\n",
      "Review 152000 of 307982\n",
      "Review 153000 of 307982\n",
      "Review 154000 of 307982\n",
      "Review 155000 of 307982\n",
      "Review 156000 of 307982\n",
      "Review 157000 of 307982\n",
      "Review 158000 of 307982\n",
      "Review 159000 of 307982\n",
      "Review 160000 of 307982\n",
      "Review 161000 of 307982\n",
      "Review 162000 of 307982\n",
      "Review 163000 of 307982\n",
      "Review 164000 of 307982\n",
      "Review 165000 of 307982\n",
      "Review 166000 of 307982\n",
      "Review 167000 of 307982\n",
      "Review 168000 of 307982\n",
      "Review 169000 of 307982\n",
      "Review 170000 of 307982\n",
      "Review 171000 of 307982\n",
      "Review 172000 of 307982\n",
      "Review 173000 of 307982\n",
      "Review 174000 of 307982\n",
      "Review 175000 of 307982\n",
      "Review 176000 of 307982\n",
      "Review 177000 of 307982\n",
      "Review 178000 of 307982\n",
      "Review 179000 of 307982\n",
      "Review 180000 of 307982\n",
      "Review 181000 of 307982\n",
      "Review 182000 of 307982\n",
      "Review 183000 of 307982\n",
      "Review 184000 of 307982\n",
      "Review 185000 of 307982\n",
      "Review 186000 of 307982\n",
      "Review 187000 of 307982\n",
      "Review 188000 of 307982\n",
      "Review 189000 of 307982\n",
      "Review 190000 of 307982\n",
      "Review 191000 of 307982\n",
      "Review 192000 of 307982\n",
      "Review 193000 of 307982\n",
      "Review 194000 of 307982\n",
      "Review 195000 of 307982\n",
      "Review 196000 of 307982\n",
      "Review 197000 of 307982\n",
      "Review 198000 of 307982\n",
      "Review 199000 of 307982\n",
      "Review 200000 of 307982\n",
      "Review 201000 of 307982\n",
      "Review 202000 of 307982\n",
      "Review 203000 of 307982\n",
      "Review 204000 of 307982\n",
      "Review 205000 of 307982\n",
      "Review 206000 of 307982\n",
      "Review 207000 of 307982\n",
      "Review 208000 of 307982\n",
      "Review 209000 of 307982\n",
      "Review 210000 of 307982\n",
      "Review 211000 of 307982\n",
      "Review 212000 of 307982\n",
      "Review 213000 of 307982\n",
      "Review 214000 of 307982\n",
      "Review 215000 of 307982\n",
      "Review 216000 of 307982\n",
      "Review 217000 of 307982\n",
      "Review 218000 of 307982\n",
      "Review 219000 of 307982\n",
      "Review 220000 of 307982\n",
      "Review 221000 of 307982\n",
      "Review 222000 of 307982\n",
      "Review 223000 of 307982\n",
      "Review 224000 of 307982\n",
      "Review 225000 of 307982\n",
      "Review 226000 of 307982\n",
      "Review 227000 of 307982\n",
      "Review 228000 of 307982\n",
      "Review 229000 of 307982\n",
      "Review 230000 of 307982\n",
      "Review 231000 of 307982\n",
      "Review 232000 of 307982\n",
      "Review 233000 of 307982\n",
      "Review 234000 of 307982\n",
      "Review 235000 of 307982\n",
      "Review 236000 of 307982\n",
      "Review 237000 of 307982\n",
      "Review 238000 of 307982\n",
      "Review 239000 of 307982\n",
      "Review 240000 of 307982\n",
      "Review 241000 of 307982\n",
      "Review 242000 of 307982\n",
      "Review 243000 of 307982\n",
      "Review 244000 of 307982\n",
      "Review 245000 of 307982\n",
      "Review 246000 of 307982\n",
      "Review 247000 of 307982\n",
      "Review 248000 of 307982\n",
      "Review 249000 of 307982\n",
      "Review 250000 of 307982\n",
      "Review 251000 of 307982\n",
      "Review 252000 of 307982\n",
      "Review 253000 of 307982\n",
      "Review 254000 of 307982\n",
      "Review 255000 of 307982\n",
      "Review 256000 of 307982\n",
      "Review 257000 of 307982\n",
      "Review 258000 of 307982\n",
      "Review 259000 of 307982\n",
      "Review 260000 of 307982\n",
      "Review 261000 of 307982\n",
      "Review 262000 of 307982\n",
      "Review 263000 of 307982\n",
      "Review 264000 of 307982\n",
      "Review 265000 of 307982\n",
      "Review 266000 of 307982\n",
      "Review 267000 of 307982\n",
      "Review 268000 of 307982\n",
      "Review 269000 of 307982\n",
      "Review 270000 of 307982\n",
      "Review 271000 of 307982\n",
      "Review 272000 of 307982\n",
      "Review 273000 of 307982\n",
      "Review 274000 of 307982\n",
      "Review 275000 of 307982\n",
      "Review 276000 of 307982\n",
      "Review 277000 of 307982\n",
      "Review 278000 of 307982\n",
      "Review 279000 of 307982\n",
      "Review 280000 of 307982\n",
      "Review 281000 of 307982\n",
      "Review 282000 of 307982\n",
      "Review 283000 of 307982\n",
      "Review 284000 of 307982\n",
      "Review 285000 of 307982\n",
      "Review 286000 of 307982\n",
      "Review 287000 of 307982\n",
      "Review 288000 of 307982\n",
      "Review 289000 of 307982\n",
      "Review 290000 of 307982\n",
      "Review 291000 of 307982\n",
      "Review 292000 of 307982\n",
      "Review 293000 of 307982\n",
      "Review 294000 of 307982\n",
      "Review 295000 of 307982\n",
      "Review 296000 of 307982\n",
      "Review 297000 of 307982\n",
      "Review 298000 of 307982\n",
      "Review 299000 of 307982\n",
      "Review 300000 of 307982\n",
      "Review 301000 of 307982\n",
      "Review 302000 of 307982\n",
      "Review 303000 of 307982\n",
      "Review 304000 of 307982\n",
      "Review 305000 of 307982\n",
      "Review 306000 of 307982\n",
      "Review 307000 of 307982\n",
      "Review 0 of 6416\n",
      "Review 1000 of 6416\n",
      "Review 2000 of 6416\n",
      "Review 3000 of 6416\n",
      "Review 4000 of 6416\n",
      "Review 5000 of 6416\n",
      "Review 6000 of 6416\n"
     ]
    }
   ],
   "source": [
    "# Function to average all word vectors in a paragraph\n",
    "def featureVecMethod(words, model, num_features):\n",
    "    # Pre-initialising empty numpy array for speed\n",
    "    featureVec = np.zeros(num_features,dtype=\"float64\")\n",
    "    nwords = 0\n",
    "    \n",
    "    #Converting Index2Word which is a list to a set for better speed in the execution.\n",
    "    index2word_set = set(model.wv.index2word)\n",
    "    \n",
    "    for word in  words:\n",
    "        if word in index2word_set:\n",
    "            nwords = nwords + 1\n",
    "            featureVec = np.add(featureVec,model[word])\n",
    "    # Dividing the result by number of words to get average\n",
    "    featureVec = np.divide(featureVec, nwords)\n",
    "    featureVec[np.isnan(featureVec)] = 0\n",
    "#     print(np.argwhere(np.isnan(featureVec)))\n",
    "    \n",
    "    return featureVec\n",
    "\n",
    "# Function for calculating the average feature vector\n",
    "def getAvgFeatureVecs(tweets, model, num_features):\n",
    "    counter = 0\n",
    "    tweetFeatureVecs = np.zeros((len(tweets),num_features),dtype=\"float64\")\n",
    "    for tweet in tweets:\n",
    "        # Printing a status message every 1000th tweet\n",
    "        if counter%1000 == 0:\n",
    "            print(\"Review %d of %d\"%(counter,len(tweets)))\n",
    "            \n",
    "        tweetFeatureVecs[counter] = featureVecMethod(tweet, model, num_features)\n",
    "        counter = counter+1\n",
    "        \n",
    "    return tweetFeatureVecs\n",
    "\n",
    "# Calculating average feature vector for training set\n",
    "train_tweets = []\n",
    "for tweet in x_train:\n",
    "    train_tweets.append(wordlist(tweet))\n",
    "\n",
    "validation_tweets = []\n",
    "for tweet in x_validation:\n",
    "    validation_tweets.append(wordlist(tweet))\n",
    "\n",
    "trainDataVecs = getAvgFeatureVecs(train_tweets, model, num_features)\n",
    "validationDataVecs =  getAvgFeatureVecs(validation_tweets, model, num_features)"
   ]
  },
  {
   "cell_type": "code",
   "execution_count": 35,
   "metadata": {},
   "outputs": [
    {
     "name": "stdout",
     "output_type": "stream",
     "text": [
      "accuracy:     0.7479738154613467\n",
      "recall:       0.7391571824054137\n",
      "precision:    0.7575662042875158\n",
      "f1_score:     0.7482484820177487\n",
      "\n",
      "confusion_matrix:\n",
      " [[2396  769]\n",
      " [ 848 2403]]\n"
     ]
    }
   ],
   "source": [
    "logreg = LogisticRegression()\n",
    "logreg.fit(trainDataVecs, y_train)\n",
    "lr_prediction = logreg.predict(validationDataVecs)\n",
    "eval_metric(lr_prediction, y_validation)"
   ]
  },
  {
   "cell_type": "code",
   "execution_count": 36,
   "metadata": {},
   "outputs": [
    {
     "name": "stdout",
     "output_type": "stream",
     "text": [
      "(307982, 300)\n",
      "(307982,)\n",
      "(0, 2)\n"
     ]
    }
   ],
   "source": [
    "type(trainDataVecs)\n",
    "print(trainDataVecs.shape)\n",
    "print(y_train.shape)\n",
    "print(np.argwhere(np.isnan(trainDataVecs)).shape)\n",
    "a = np.argwhere(np.isnan(trainDataVecs))\n",
    "\n",
    "for i in a:\n",
    "     print (i[0])"
   ]
  },
  {
   "cell_type": "markdown",
   "metadata": {},
   "source": [
    "# CNN"
   ]
  },
  {
   "cell_type": "code",
   "execution_count": 37,
   "metadata": {},
   "outputs": [
    {
     "name": "stderr",
     "output_type": "stream",
     "text": [
      "2018-12-04 11:42:57,040 : INFO : loading Word2VecKeyedVectors object from 300features_40minwords_10context\n",
      "2018-12-04 11:42:57,144 : INFO : loading wv recursively from 300features_40minwords_10context.wv.* with mmap=None\n",
      "2018-12-04 11:42:57,144 : INFO : setting ignored attribute vectors_norm to None\n",
      "2018-12-04 11:42:57,144 : INFO : loading vocabulary recursively from 300features_40minwords_10context.vocabulary.* with mmap=None\n",
      "2018-12-04 11:42:57,145 : INFO : loading trainables recursively from 300features_40minwords_10context.trainables.* with mmap=None\n",
      "2018-12-04 11:42:57,145 : INFO : setting ignored attribute cum_table to None\n",
      "2018-12-04 11:42:57,146 : INFO : loaded 300features_40minwords_10context\n"
     ]
    }
   ],
   "source": [
    "from gensim.models import KeyedVectors\n",
    "model_w2v = KeyedVectors.load(model_name)\n",
    "\n",
    "embeddings_index = {}\n",
    "for w in model_w2v.wv.vocab.keys():\n",
    "    embeddings_index[w] = model_w2v.wv[w]\n"
   ]
  },
  {
   "cell_type": "code",
   "execution_count": 38,
   "metadata": {},
   "outputs": [],
   "source": [
    "from keras.preprocessing.text import Tokenizer\n",
    "from keras.preprocessing.sequence import pad_sequences\n",
    "\n",
    "tokenizer = Tokenizer(num_words=100000)\n",
    "tokenizer.fit_on_texts(x_train)\n",
    "sequences = tokenizer.texts_to_sequences(x_train)"
   ]
  },
  {
   "cell_type": "code",
   "execution_count": 39,
   "metadata": {},
   "outputs": [
    {
     "name": "stdout",
     "output_type": "stream",
     "text": [
      "no worries didn t want anyone think stealing i m half catholic half jewish lots guilt\n",
      "bravo i d clapping could hear amandapalmer live http ustre am  qrf\n",
      "waddup tweeple lazy saturday btw hows weather hyd vry lovely dehradun\n",
      "sad play com correct won t get tw soundtrack til end july\n",
      "ahhhh finally own bed\n"
     ]
    },
    {
     "data": {
      "text/plain": [
       "[[10, 1609, 91, 2, 36, 315, 37, 5163, 1, 3, 408, 8966, 408, 12286, 406, 6533],\n",
       " [8369, 1, 90, 12287, 87, 225, 14035, 216, 12, 1988, 177, 14036],\n",
       " [15204, 3339, 770, 371, 446, 1647, 204, 15205, 13076, 369, 42387],\n",
       " [59, 237, 24, 2403, 147, 2, 8, 5577, 4002, 472, 301, 807],\n",
       " [1734, 174, 442, 86]]"
      ]
     },
     "execution_count": 39,
     "metadata": {},
     "output_type": "execute_result"
    }
   ],
   "source": [
    "for x in x_train[:5]:\n",
    "    print (x)\n",
    "sequences[:5]"
   ]
  },
  {
   "cell_type": "code",
   "execution_count": 40,
   "metadata": {},
   "outputs": [],
   "source": [
    "sequences_val = tokenizer.texts_to_sequences(x_validation)\n",
    "x_val_seq = pad_sequences(sequences_val, maxlen=58)"
   ]
  },
  {
   "cell_type": "code",
   "execution_count": 41,
   "metadata": {},
   "outputs": [
    {
     "data": {
      "text/plain": [
       "50"
      ]
     },
     "execution_count": 41,
     "metadata": {},
     "output_type": "execute_result"
    }
   ],
   "source": [
    "length = []\n",
    "for x in x_train:\n",
    "    length.append(len(x.split()))\n",
    "max(length)"
   ]
  },
  {
   "cell_type": "code",
   "execution_count": 42,
   "metadata": {},
   "outputs": [
    {
     "data": {
      "text/plain": [
       "array([[    0,     0,     0,     0,     0,     0,     0,     0,     0,\n",
       "            0,     0,     0,     0,     0,     0,     0,     0,     0,\n",
       "            0,     0,     0,     0,     0,     0,     0,     0,     0,\n",
       "            0,     0,     0,     0,     0,     0,     0,     0,     0,\n",
       "            0,     0,     0,     0,     0,     0,    10,  1609,    91,\n",
       "            2,    36,   315,    37,  5163,     1,     3,   408,  8966,\n",
       "          408, 12286,   406,  6533],\n",
       "       [    0,     0,     0,     0,     0,     0,     0,     0,     0,\n",
       "            0,     0,     0,     0,     0,     0,     0,     0,     0,\n",
       "            0,     0,     0,     0,     0,     0,     0,     0,     0,\n",
       "            0,     0,     0,     0,     0,     0,     0,     0,     0,\n",
       "            0,     0,     0,     0,     0,     0,     0,     0,     0,\n",
       "            0,  8369,     1,    90, 12287,    87,   225, 14035,   216,\n",
       "           12,  1988,   177, 14036],\n",
       "       [    0,     0,     0,     0,     0,     0,     0,     0,     0,\n",
       "            0,     0,     0,     0,     0,     0,     0,     0,     0,\n",
       "            0,     0,     0,     0,     0,     0,     0,     0,     0,\n",
       "            0,     0,     0,     0,     0,     0,     0,     0,     0,\n",
       "            0,     0,     0,     0,     0,     0,     0,     0,     0,\n",
       "            0,     0, 15204,  3339,   770,   371,   446,  1647,   204,\n",
       "        15205, 13076,   369, 42387],\n",
       "       [    0,     0,     0,     0,     0,     0,     0,     0,     0,\n",
       "            0,     0,     0,     0,     0,     0,     0,     0,     0,\n",
       "            0,     0,     0,     0,     0,     0,     0,     0,     0,\n",
       "            0,     0,     0,     0,     0,     0,     0,     0,     0,\n",
       "            0,     0,     0,     0,     0,     0,     0,     0,     0,\n",
       "            0,    59,   237,    24,  2403,   147,     2,     8,  5577,\n",
       "         4002,   472,   301,   807],\n",
       "       [    0,     0,     0,     0,     0,     0,     0,     0,     0,\n",
       "            0,     0,     0,     0,     0,     0,     0,     0,     0,\n",
       "            0,     0,     0,     0,     0,     0,     0,     0,     0,\n",
       "            0,     0,     0,     0,     0,     0,     0,     0,     0,\n",
       "            0,     0,     0,     0,     0,     0,     0,     0,     0,\n",
       "            0,     0,     0,     0,     0,     0,     0,     0,     0,\n",
       "         1734,   174,   442,    86]])"
      ]
     },
     "execution_count": 42,
     "metadata": {},
     "output_type": "execute_result"
    }
   ],
   "source": [
    "x_train_seq = pad_sequences(sequences, maxlen=58)\n",
    "x_train_seq[:5]"
   ]
  },
  {
   "cell_type": "code",
   "execution_count": 43,
   "metadata": {},
   "outputs": [],
   "source": [
    "num_words = 100000\n",
    "embedding_matrix = np.zeros((num_words, 300))\n",
    "for word, i in tokenizer.word_index.items():\n",
    "    if i >= num_words:\n",
    "        continue\n",
    "    embedding_vector = embeddings_index.get(word)\n",
    "    if embedding_vector is not None:\n",
    "        embedding_matrix[i] = embedding_vector"
   ]
  },
  {
   "cell_type": "code",
   "execution_count": 44,
   "metadata": {},
   "outputs": [],
   "source": [
    "from keras.models import Sequential\n",
    "from keras.layers import Dense, Dropout\n",
    "from keras.layers import Flatten\n",
    "from keras.layers.embeddings import Embedding"
   ]
  },
  {
   "cell_type": "code",
   "execution_count": 45,
   "metadata": {},
   "outputs": [
    {
     "name": "stdout",
     "output_type": "stream",
     "text": [
      "Train on 307982 samples, validate on 6416 samples\n",
      "Epoch 1/5\n"
     ]
    },
    {
     "ename": "KeyboardInterrupt",
     "evalue": "",
     "output_type": "error",
     "traceback": [
      "\u001b[1;31m---------------------------------------------------------------------------\u001b[0m",
      "\u001b[1;31mKeyboardInterrupt\u001b[0m                         Traceback (most recent call last)",
      "\u001b[1;32m<ipython-input-45-300c2e2f6b34>\u001b[0m in \u001b[0;36m<module>\u001b[1;34m()\u001b[0m\n\u001b[0;32m      7\u001b[0m \u001b[0mmodel_ptw2v\u001b[0m\u001b[1;33m.\u001b[0m\u001b[0madd\u001b[0m\u001b[1;33m(\u001b[0m\u001b[0mDense\u001b[0m\u001b[1;33m(\u001b[0m\u001b[1;36m1\u001b[0m\u001b[1;33m,\u001b[0m \u001b[0mactivation\u001b[0m\u001b[1;33m=\u001b[0m\u001b[1;34m'sigmoid'\u001b[0m\u001b[1;33m)\u001b[0m\u001b[1;33m)\u001b[0m\u001b[1;33m\u001b[0m\u001b[0m\n\u001b[0;32m      8\u001b[0m \u001b[0mmodel_ptw2v\u001b[0m\u001b[1;33m.\u001b[0m\u001b[0mcompile\u001b[0m\u001b[1;33m(\u001b[0m\u001b[0mloss\u001b[0m\u001b[1;33m=\u001b[0m\u001b[1;34m'binary_crossentropy'\u001b[0m\u001b[1;33m,\u001b[0m \u001b[0moptimizer\u001b[0m\u001b[1;33m=\u001b[0m\u001b[1;34m'adam'\u001b[0m\u001b[1;33m,\u001b[0m \u001b[0mmetrics\u001b[0m\u001b[1;33m=\u001b[0m\u001b[1;33m[\u001b[0m\u001b[1;34m'accuracy'\u001b[0m\u001b[1;33m]\u001b[0m\u001b[1;33m)\u001b[0m\u001b[1;33m\u001b[0m\u001b[0m\n\u001b[1;32m----> 9\u001b[1;33m \u001b[0mmodel_ptw2v\u001b[0m\u001b[1;33m.\u001b[0m\u001b[0mfit\u001b[0m\u001b[1;33m(\u001b[0m\u001b[0mx_train_seq\u001b[0m\u001b[1;33m,\u001b[0m \u001b[0my_train\u001b[0m\u001b[1;33m,\u001b[0m \u001b[0mvalidation_data\u001b[0m\u001b[1;33m=\u001b[0m\u001b[1;33m(\u001b[0m\u001b[0mx_val_seq\u001b[0m\u001b[1;33m,\u001b[0m \u001b[0my_validation\u001b[0m\u001b[1;33m)\u001b[0m\u001b[1;33m,\u001b[0m \u001b[0mepochs\u001b[0m\u001b[1;33m=\u001b[0m\u001b[1;36m5\u001b[0m\u001b[1;33m,\u001b[0m \u001b[0mbatch_size\u001b[0m\u001b[1;33m=\u001b[0m\u001b[1;36m32\u001b[0m\u001b[1;33m,\u001b[0m \u001b[0mverbose\u001b[0m\u001b[1;33m=\u001b[0m\u001b[1;36m2\u001b[0m\u001b[1;33m)\u001b[0m\u001b[1;33m\u001b[0m\u001b[0m\n\u001b[0m",
      "\u001b[1;32m~\\AppData\\Local\\Continuum\\anaconda3\\lib\\site-packages\\keras\\engine\\training.py\u001b[0m in \u001b[0;36mfit\u001b[1;34m(self, x, y, batch_size, epochs, verbose, callbacks, validation_split, validation_data, shuffle, class_weight, sample_weight, initial_epoch, steps_per_epoch, validation_steps, **kwargs)\u001b[0m\n\u001b[0;32m   1037\u001b[0m                                         \u001b[0minitial_epoch\u001b[0m\u001b[1;33m=\u001b[0m\u001b[0minitial_epoch\u001b[0m\u001b[1;33m,\u001b[0m\u001b[1;33m\u001b[0m\u001b[0m\n\u001b[0;32m   1038\u001b[0m                                         \u001b[0msteps_per_epoch\u001b[0m\u001b[1;33m=\u001b[0m\u001b[0msteps_per_epoch\u001b[0m\u001b[1;33m,\u001b[0m\u001b[1;33m\u001b[0m\u001b[0m\n\u001b[1;32m-> 1039\u001b[1;33m                                         validation_steps=validation_steps)\n\u001b[0m\u001b[0;32m   1040\u001b[0m \u001b[1;33m\u001b[0m\u001b[0m\n\u001b[0;32m   1041\u001b[0m     def evaluate(self, x=None, y=None,\n",
      "\u001b[1;32m~\\AppData\\Local\\Continuum\\anaconda3\\lib\\site-packages\\keras\\engine\\training_arrays.py\u001b[0m in \u001b[0;36mfit_loop\u001b[1;34m(model, f, ins, out_labels, batch_size, epochs, verbose, callbacks, val_f, val_ins, shuffle, callback_metrics, initial_epoch, steps_per_epoch, validation_steps)\u001b[0m\n\u001b[0;32m    197\u001b[0m                     \u001b[0mins_batch\u001b[0m\u001b[1;33m[\u001b[0m\u001b[0mi\u001b[0m\u001b[1;33m]\u001b[0m \u001b[1;33m=\u001b[0m \u001b[0mins_batch\u001b[0m\u001b[1;33m[\u001b[0m\u001b[0mi\u001b[0m\u001b[1;33m]\u001b[0m\u001b[1;33m.\u001b[0m\u001b[0mtoarray\u001b[0m\u001b[1;33m(\u001b[0m\u001b[1;33m)\u001b[0m\u001b[1;33m\u001b[0m\u001b[0m\n\u001b[0;32m    198\u001b[0m \u001b[1;33m\u001b[0m\u001b[0m\n\u001b[1;32m--> 199\u001b[1;33m                 \u001b[0mouts\u001b[0m \u001b[1;33m=\u001b[0m \u001b[0mf\u001b[0m\u001b[1;33m(\u001b[0m\u001b[0mins_batch\u001b[0m\u001b[1;33m)\u001b[0m\u001b[1;33m\u001b[0m\u001b[0m\n\u001b[0m\u001b[0;32m    200\u001b[0m                 \u001b[0mouts\u001b[0m \u001b[1;33m=\u001b[0m \u001b[0mto_list\u001b[0m\u001b[1;33m(\u001b[0m\u001b[0mouts\u001b[0m\u001b[1;33m)\u001b[0m\u001b[1;33m\u001b[0m\u001b[0m\n\u001b[0;32m    201\u001b[0m                 \u001b[1;32mfor\u001b[0m \u001b[0ml\u001b[0m\u001b[1;33m,\u001b[0m \u001b[0mo\u001b[0m \u001b[1;32min\u001b[0m \u001b[0mzip\u001b[0m\u001b[1;33m(\u001b[0m\u001b[0mout_labels\u001b[0m\u001b[1;33m,\u001b[0m \u001b[0mouts\u001b[0m\u001b[1;33m)\u001b[0m\u001b[1;33m:\u001b[0m\u001b[1;33m\u001b[0m\u001b[0m\n",
      "\u001b[1;32m~\\AppData\\Local\\Continuum\\anaconda3\\lib\\site-packages\\keras\\backend\\tensorflow_backend.py\u001b[0m in \u001b[0;36m__call__\u001b[1;34m(self, inputs)\u001b[0m\n\u001b[0;32m   2713\u001b[0m                 \u001b[1;32mreturn\u001b[0m \u001b[0mself\u001b[0m\u001b[1;33m.\u001b[0m\u001b[0m_legacy_call\u001b[0m\u001b[1;33m(\u001b[0m\u001b[0minputs\u001b[0m\u001b[1;33m)\u001b[0m\u001b[1;33m\u001b[0m\u001b[0m\n\u001b[0;32m   2714\u001b[0m \u001b[1;33m\u001b[0m\u001b[0m\n\u001b[1;32m-> 2715\u001b[1;33m             \u001b[1;32mreturn\u001b[0m \u001b[0mself\u001b[0m\u001b[1;33m.\u001b[0m\u001b[0m_call\u001b[0m\u001b[1;33m(\u001b[0m\u001b[0minputs\u001b[0m\u001b[1;33m)\u001b[0m\u001b[1;33m\u001b[0m\u001b[0m\n\u001b[0m\u001b[0;32m   2716\u001b[0m         \u001b[1;32melse\u001b[0m\u001b[1;33m:\u001b[0m\u001b[1;33m\u001b[0m\u001b[0m\n\u001b[0;32m   2717\u001b[0m             \u001b[1;32mif\u001b[0m \u001b[0mpy_any\u001b[0m\u001b[1;33m(\u001b[0m\u001b[0mis_tensor\u001b[0m\u001b[1;33m(\u001b[0m\u001b[0mx\u001b[0m\u001b[1;33m)\u001b[0m \u001b[1;32mfor\u001b[0m \u001b[0mx\u001b[0m \u001b[1;32min\u001b[0m \u001b[0minputs\u001b[0m\u001b[1;33m)\u001b[0m\u001b[1;33m:\u001b[0m\u001b[1;33m\u001b[0m\u001b[0m\n",
      "\u001b[1;32m~\\AppData\\Local\\Continuum\\anaconda3\\lib\\site-packages\\keras\\backend\\tensorflow_backend.py\u001b[0m in \u001b[0;36m_call\u001b[1;34m(self, inputs)\u001b[0m\n\u001b[0;32m   2673\u001b[0m             \u001b[0mfetched\u001b[0m \u001b[1;33m=\u001b[0m \u001b[0mself\u001b[0m\u001b[1;33m.\u001b[0m\u001b[0m_callable_fn\u001b[0m\u001b[1;33m(\u001b[0m\u001b[1;33m*\u001b[0m\u001b[0marray_vals\u001b[0m\u001b[1;33m,\u001b[0m \u001b[0mrun_metadata\u001b[0m\u001b[1;33m=\u001b[0m\u001b[0mself\u001b[0m\u001b[1;33m.\u001b[0m\u001b[0mrun_metadata\u001b[0m\u001b[1;33m)\u001b[0m\u001b[1;33m\u001b[0m\u001b[0m\n\u001b[0;32m   2674\u001b[0m         \u001b[1;32melse\u001b[0m\u001b[1;33m:\u001b[0m\u001b[1;33m\u001b[0m\u001b[0m\n\u001b[1;32m-> 2675\u001b[1;33m             \u001b[0mfetched\u001b[0m \u001b[1;33m=\u001b[0m \u001b[0mself\u001b[0m\u001b[1;33m.\u001b[0m\u001b[0m_callable_fn\u001b[0m\u001b[1;33m(\u001b[0m\u001b[1;33m*\u001b[0m\u001b[0marray_vals\u001b[0m\u001b[1;33m)\u001b[0m\u001b[1;33m\u001b[0m\u001b[0m\n\u001b[0m\u001b[0;32m   2676\u001b[0m         \u001b[1;32mreturn\u001b[0m \u001b[0mfetched\u001b[0m\u001b[1;33m[\u001b[0m\u001b[1;33m:\u001b[0m\u001b[0mlen\u001b[0m\u001b[1;33m(\u001b[0m\u001b[0mself\u001b[0m\u001b[1;33m.\u001b[0m\u001b[0moutputs\u001b[0m\u001b[1;33m)\u001b[0m\u001b[1;33m]\u001b[0m\u001b[1;33m\u001b[0m\u001b[0m\n\u001b[0;32m   2677\u001b[0m \u001b[1;33m\u001b[0m\u001b[0m\n",
      "\u001b[1;32m~\\AppData\\Local\\Continuum\\anaconda3\\lib\\site-packages\\tensorflow\\python\\client\\session.py\u001b[0m in \u001b[0;36m__call__\u001b[1;34m(self, *args, **kwargs)\u001b[0m\n\u001b[0;32m   1437\u001b[0m           ret = tf_session.TF_SessionRunCallable(\n\u001b[0;32m   1438\u001b[0m               \u001b[0mself\u001b[0m\u001b[1;33m.\u001b[0m\u001b[0m_session\u001b[0m\u001b[1;33m.\u001b[0m\u001b[0m_session\u001b[0m\u001b[1;33m,\u001b[0m \u001b[0mself\u001b[0m\u001b[1;33m.\u001b[0m\u001b[0m_handle\u001b[0m\u001b[1;33m,\u001b[0m \u001b[0margs\u001b[0m\u001b[1;33m,\u001b[0m \u001b[0mstatus\u001b[0m\u001b[1;33m,\u001b[0m\u001b[1;33m\u001b[0m\u001b[0m\n\u001b[1;32m-> 1439\u001b[1;33m               run_metadata_ptr)\n\u001b[0m\u001b[0;32m   1440\u001b[0m         \u001b[1;32mif\u001b[0m \u001b[0mrun_metadata\u001b[0m\u001b[1;33m:\u001b[0m\u001b[1;33m\u001b[0m\u001b[0m\n\u001b[0;32m   1441\u001b[0m           \u001b[0mproto_data\u001b[0m \u001b[1;33m=\u001b[0m \u001b[0mtf_session\u001b[0m\u001b[1;33m.\u001b[0m\u001b[0mTF_GetBuffer\u001b[0m\u001b[1;33m(\u001b[0m\u001b[0mrun_metadata_ptr\u001b[0m\u001b[1;33m)\u001b[0m\u001b[1;33m\u001b[0m\u001b[0m\n",
      "\u001b[1;31mKeyboardInterrupt\u001b[0m: "
     ]
    }
   ],
   "source": [
    "\n",
    "model_ptw2v = Sequential()\n",
    "e = Embedding(100000, 300, weights=[embedding_matrix], input_length=58, trainable=False)\n",
    "model_ptw2v.add(e)\n",
    "model_ptw2v.add(Flatten())\n",
    "model_ptw2v.add(Dense(256, activation='relu'))\n",
    "model_ptw2v.add(Dense(1, activation='sigmoid'))\n",
    "model_ptw2v.compile(loss='binary_crossentropy', optimizer='adam', metrics=['accuracy'])\n",
    "model_ptw2v.fit(x_train_seq, y_train, validation_data=(x_val_seq, y_validation), epochs=5, batch_size=32, verbose=2)"
   ]
  },
  {
   "cell_type": "code",
   "execution_count": 51,
   "metadata": {},
   "outputs": [
    {
     "name": "stdout",
     "output_type": "stream",
     "text": [
      "Train on 307982 samples, validate on 6416 samples\n",
      "Epoch 1/5\n",
      " - 665s - loss: 0.4690 - acc: 0.7757 - val_loss: 0.4849 - val_acc: 0.7717\n",
      "Epoch 2/5\n",
      " - 674s - loss: 0.4224 - acc: 0.8046 - val_loss: 0.4987 - val_acc: 0.7614\n",
      "Epoch 3/5\n",
      " - 677s - loss: 0.3695 - acc: 0.8352 - val_loss: 0.5225 - val_acc: 0.7604\n",
      "Epoch 4/5\n",
      " - 671s - loss: 0.3183 - acc: 0.8627 - val_loss: 0.5814 - val_acc: 0.7561\n",
      "Epoch 5/5\n",
      " - 664s - loss: 0.2736 - acc: 0.8845 - val_loss: 0.6451 - val_acc: 0.7453\n"
     ]
    },
    {
     "data": {
      "text/plain": [
       "<keras.callbacks.History at 0x17011a98400>"
      ]
     },
     "execution_count": 51,
     "metadata": {},
     "output_type": "execute_result"
    }
   ],
   "source": [
    "lstm_out = 196\n",
    "\n",
    "model = Sequential()\n",
    "model.add(Embedding(100000, 300, weights=[embedding_matrix], input_length=58, trainable=False))\n",
    "model.add(LSTM(lstm_out, recurrent_dropout=0.2, dropout=0.2))\n",
    "model.add(Dense(9,activation='softmax'))\n",
    "model.compile(loss = 'categorical_crossentropy', optimizer='adam', metrics = ['categorical_crossentropy'])\n",
    "model_ptw2v.fit(x_train_seq, y_train, validation_data=(x_val_seq, y_validation), epochs=5, batch_size=32, verbose=2)"
   ]
  },
  {
   "cell_type": "code",
   "execution_count": null,
   "metadata": {},
   "outputs": [],
   "source": []
  }
 ],
 "metadata": {
  "kernelspec": {
   "display_name": "Python 3",
   "language": "python",
   "name": "python3"
  },
  "language_info": {
   "codemirror_mode": {
    "name": "ipython",
    "version": 3
   },
   "file_extension": ".py",
   "mimetype": "text/x-python",
   "name": "python",
   "nbconvert_exporter": "python",
   "pygments_lexer": "ipython3",
   "version": "3.6.5"
  }
 },
 "nbformat": 4,
 "nbformat_minor": 2
}
